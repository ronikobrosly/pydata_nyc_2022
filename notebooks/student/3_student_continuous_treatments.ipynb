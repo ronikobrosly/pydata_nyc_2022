{
 "cells": [
  {
   "cell_type": "markdown",
   "metadata": {},
   "source": [
    "# Notebook 3 - Handling continuous treatments by estimating causal curves (student notebook)"
   ]
  },
  {
   "cell_type": "markdown",
   "metadata": {},
   "source": [
    "### For this analysis we'll be using the National Health and Nutrition Examination Survey III (NHANES III) dataset. NHANES III was conducted by the CDC and is a publicly available and PII- and PHI-free dataset. As part of NHANES III, the government interviewed and conducted laboratory tests on 1000s of U.S. residents. \n",
    "\n",
    "### We'll be focusing on the smaller, lead study within the larger NHANES study. It's well-known that both neonatal and childhood lead exposure leads to cognitive deficits in children. We're going to perform causal inference to see what would happen to cognitive test scores if we could reduce lead exposure at the population level. "
   ]
  },
  {
   "cell_type": "code",
   "execution_count": null,
   "metadata": {},
   "outputs": [],
   "source": [
    "from os.path import expanduser\n",
    "import warnings; warnings.filterwarnings(\"ignore\")\n",
    "\n",
    "from causal_curve import GPS_Regressor\n",
    "from causal_curve import Mediation\n",
    "import matplotlib.pyplot as plt\n",
    "import numpy as np\n",
    "import pandas as pd\n",
    "from scipy.interpolate import interp1d\n",
    "\n",
    "%matplotlib inline\n",
    "pd.options.mode.chained_assignment = None\n",
    "plt.rcParams['figure.dpi'] = 200\n",
    "plt.rcParams['figure.figsize'] = [5, 4]"
   ]
  },
  {
   "cell_type": "markdown",
   "metadata": {},
   "source": [
    "### Read in NHANES III data"
   ]
  },
  {
   "cell_type": "code",
   "execution_count": null,
   "metadata": {},
   "outputs": [],
   "source": [
    "# Windows users: replace the following line with `df = pd.read_csv(r\"..\\..\\data\\NHANES_III.csv\")`\n",
    "df = pd.read_csv(\"../../data/NHANES_III.csv\")"
   ]
  },
  {
   "cell_type": "markdown",
   "metadata": {},
   "source": [
    "The NHANES III dataset should contain the following columns:\n",
    "\n",
    "__Race_NH_Black__<br>\n",
    "   $\\;\\;\\;\\;\\;\\;$Is the race/ethnicity child Non-Hispanic Black?<br>\n",
    "__Race_NH_White__<br>\n",
    "    $\\;\\;\\;\\;\\;\\;$Is the race/ethnicity child Non-Hispanic White?<br>\n",
    "__Race_Other__<br>\n",
    "    $\\;\\;\\;\\;\\;\\;$Is the race/ethnicity child Other?<br>\n",
    "__Edu_HS__<br>\n",
    "    $\\;\\;\\;\\;\\;\\;$Did the primary parent obtain at least a high school degree as their highest degree?<br>\n",
    "__Edu_LT_HS__<br>\n",
    "    $\\;\\;\\;\\;\\;\\;$Did the primary parent not obtain a high school degree?<br>\n",
    "__Sex_Male__<br>\n",
    "    $\\;\\;\\;\\;\\;\\;$Was the child male? (This old government data assumes binary sex)<br>\n",
    "__Age__<br>\n",
    "    $\\;\\;\\;\\;\\;\\;$What was the age of the child (in years) when tested?<br>\n",
    "__PIR__<br>\n",
    "    $\\;\\;\\;\\;\\;\\;$NHANES describes this as the \"Poverty-income ratio\", but this is actually a misnomer. Really, this is the income-to-poverty ratio (family income in numerator, local poverty-line in denominator). < 1 indicates a family income below the poverty line, 1 indicates family income is at the poverty line, > 1 means income is greater than the poverty line. <br>\n",
    "__Smoke_Home_Yes__<br>\n",
    "    $\\;\\;\\;\\;\\;\\;$Is there smoking going on in the home?<br>\n",
    "__Food_Often_bad__<br>\n",
    "    $\\;\\;\\;\\;\\;\\;$Does the child experience food insecurity often?<br>\n",
    "__Food_Sometimes_bad__<br>\n",
    "    $\\;\\;\\;\\;\\;\\;$Does the child experience food insecurity sometimes?<br>\n",
    "__Smoke_Preg_No__<br>\n",
    "    $\\;\\;\\;\\;\\;\\;$Was someone in the family smoking when the mother was pregnant with this child?<br>\n",
    "__Baby_NICU_Yes__<br>\n",
    "    $\\;\\;\\;\\;\\;\\;$Did the child spend any time in a Neonatal intensive care unit (NICU) after being born?<br>\n",
    "__Math__<br>\n",
    "    $\\;\\;\\;\\;\\;\\;$Math test score (already standardized)<br>\n",
    "__Reading__<br>\n",
    "    $\\;\\;\\;\\;\\;\\;$Reading test score (already standardized)<br>\n",
    "__Block__<br>\n",
    "    $\\;\\;\\;\\;\\;\\;$Block design test score (already standardized)<br>\n",
    "__Digit__<br>\n",
    "    $\\;\\;\\;\\;\\;\\;$Digit spanning test score (already standardized)<br>\n",
    "__BLL__<br>\n",
    "    $\\;\\;\\;\\;\\;\\;$Blood lead level (mcg/dL)<br>"
   ]
  },
  {
   "cell_type": "code",
   "execution_count": null,
   "metadata": {
    "tags": []
   },
   "outputs": [],
   "source": [
    "df.head()"
   ]
  },
  {
   "cell_type": "markdown",
   "metadata": {},
   "source": [
    "### First, let's do a bit of exploratory analysis of our key variables"
   ]
  },
  {
   "cell_type": "markdown",
   "metadata": {},
   "source": [
    "<div class=\"alert alert-success\">\n",
    "    <h3>EXERCISE: What does the distribution of blood lead values look like?</h3>\n",
    "    <h3>Note: There is no minimal, safe level of lead exposure. However, a level of 5 mcg/dL or higher is generally regarded a point of alarm for children.</h3>\n",
    "</div>"
   ]
  },
  {
   "cell_type": "code",
   "execution_count": null,
   "metadata": {},
   "outputs": [],
   "source": []
  },
  {
   "cell_type": "markdown",
   "metadata": {},
   "source": [
    "<div class=\"alert alert-success\">\n",
    "    <h3>EXERCISE: What do the four cognitive test values look like? Do they appear to be normally-distributed?</h3>\n",
    "</div>"
   ]
  },
  {
   "cell_type": "code",
   "execution_count": null,
   "metadata": {
    "tags": []
   },
   "outputs": [],
   "source": []
  },
  {
   "cell_type": "markdown",
   "metadata": {},
   "source": [
    "### Now let's perform causal inference using the `causal-curve` package. Below is this code to conduct the analysis over each of the 4 test types. We store the results in the `results_dict` for safekeeping."
   ]
  },
  {
   "cell_type": "code",
   "execution_count": null,
   "metadata": {},
   "outputs": [],
   "source": [
    "# Dictionary to store model results\n",
    "results_dict = {}\n",
    "\n",
    "# Potential confounders\n",
    "potential_confounders = [\n",
    "    'Age', 'Sex_Male', 'Race_NH_Black', 'Race_NH_White', 'Race_Other', \n",
    "    'Edu_HS', 'Edu_LT_HS', 'Smoke_Home_Yes', 'Baby_NICU_Yes', 'Food_Often_bad', 'Food_Sometimes_bad'\n",
    "]\n",
    "\n",
    "\n",
    "# Try the MATH model\n",
    "math_gps = GPS_Regressor(gps_family='normal', lower_grid_constraint = 0.0, upper_grid_constraint = 0.99, n_splines = 5, verbose=False)\n",
    "math_gps.fit(\n",
    "    T=df['BLL'], \n",
    "    X=df[potential_confounders], \n",
    "    y=df['Math']\n",
    ")\n",
    "\n",
    "results_dict['math_CDRC'] = math_gps.calculate_CDRC()\n",
    "\n",
    "\n",
    "# Try the READING model\n",
    "reading_gps = GPS_Regressor(gps_family='normal', lower_grid_constraint = 0.0, upper_grid_constraint = 0.99, n_splines = 5, verbose=False)\n",
    "\n",
    "reading_gps.fit(\n",
    "    T=df['BLL'], \n",
    "    X=df[potential_confounders],  \n",
    "    y=df['Reading']\n",
    ")\n",
    "\n",
    "results_dict['reading_CDRC'] = reading_gps.calculate_CDRC()\n",
    "\n",
    "\n",
    "\n",
    "# Try the Block model\n",
    "block_gps = GPS_Regressor(gps_family='normal', lower_grid_constraint = 0.0, upper_grid_constraint = 0.99, n_splines = 5, verbose=False)\n",
    "\n",
    "block_gps.fit(\n",
    "    T=df['BLL'], \n",
    "    X=df[potential_confounders],  \n",
    "    y=df['Block']\n",
    ")\n",
    "\n",
    "results_dict['block_CDRC'] = block_gps.calculate_CDRC()\n",
    "\n",
    "\n",
    "\n",
    "# Try the Digit model\n",
    "digit_gps = GPS_Regressor(gps_family='normal', lower_grid_constraint = 0.0, upper_grid_constraint = 0.99, n_splines = 5, verbose=False)\n",
    "\n",
    "digit_gps.fit(\n",
    "    T=df['BLL'], \n",
    "    X=df[potential_confounders],  \n",
    "    y=df['Digit']\n",
    ")\n",
    "\n",
    "results_dict['digit_CDRC'] = digit_gps.calculate_CDRC()"
   ]
  },
  {
   "cell_type": "markdown",
   "metadata": {},
   "source": [
    "### Plot causal inference results"
   ]
  },
  {
   "cell_type": "markdown",
   "metadata": {},
   "source": [
    "<div class=\"alert alert-success\">\n",
    "    <h3>EXERCISE: Please run the following block to obtain plots of the results (with 95% confidence intervals). How would you interpret any of these plots? How would you describe these causal curves to a colleague? How would you say they're different from a standard bivariate plot of lead against test scores?</h3>\n",
    "</div>"
   ]
  },
  {
   "cell_type": "code",
   "execution_count": null,
   "metadata": {},
   "outputs": [],
   "source": [
    "result_class = [['math_CDRC', 'reading_CDRC'], ['block_CDRC', 'digit_CDRC']]\n",
    "\n",
    "result_name = [['Math', 'Reading'], ['Block Design', 'Digit Spanning']]\n",
    "\n",
    "def plot_mean_and_CI(axs, i, j, treatment, mean, lb, ub, color_mean=None, color_shading=None):\n",
    "    # plot the shaded range of the confidence intervals\n",
    "    axs[i,j].fill_between(treatment, lb, ub, color=color_shading, alpha=0.3)\n",
    "    # plot the mean on top\n",
    "    axs[i,j].plot(treatment, mean, color_mean, linewidth=0.75)\n",
    "\n",
    "plt.rcParams['figure.dpi'] = 200\n",
    "plt.rcParams['figure.figsize'] = [6, 5]\n",
    "\n",
    "fig, axs = plt.subplots(2, 2)\n",
    "\n",
    "for i in [0,1]:\n",
    "    for j in [0,1]:\n",
    "\n",
    "        # Plotting quantities\n",
    "        treat = results_dict[result_class[i][j]]['Treatment']\n",
    "        mean = results_dict[result_class[i][j]]['Causal_Dose_Response']\n",
    "        lb = results_dict[result_class[i][j]]['Lower_CI']\n",
    "        ub = results_dict[result_class[i][j]]['Upper_CI']\n",
    "        plot_mean_and_CI(axs, i, j, treat, mean, lb, ub, color_mean='b', color_shading='b')\n",
    "\n",
    "        # Labels\n",
    "        axs[0,0].set_ylabel('Scaled Test Score', fontsize = 8)\n",
    "        axs[0,1].set_ylabel('')\n",
    "        axs[1,0].set_ylabel('Scaled Test Score', fontsize = 8)\n",
    "        axs[1,1].set_ylabel('')\n",
    "        axs[1,0].set_xlabel('Blood Lead (ug/dL)', fontsize = 8)\n",
    "        axs[1,1].set_xlabel('Blood Lead (ug/dL)', fontsize = 8)\n",
    "\n",
    "        axs[i,j].set_title(result_name[i][j], fontsize = 8)\n",
    "        axs[i,j].set_title(result_name[i][j], fontsize = 8)\n",
    "        axs[i,j].set_title(result_name[i][j], fontsize = 8)\n",
    "        axs[i,j].set_title(result_name[i][j], fontsize = 8)\n",
    "\n",
    "        axs[i,j].spines[\"top\"].set_visible(False)\n",
    "        axs[i,j].spines[\"right\"].set_visible(False)\n",
    "\n",
    "        axs[i,j].set_xlim(0, 10)\n",
    "        axs[i,j].set_ylim(0, 15)\n",
    "        \n",
    "        axs[i,j].tick_params(axis='both', which='major', labelsize=6)\n",
    "\n",
    "\n",
    "fig.tight_layout(rect=[0, 0.03, 1, 0.95])\n",
    "plt.suptitle(\"Test Performance Causal Curves (with 95% CIs)\", fontsize = 10)"
   ]
  },
  {
   "cell_type": "markdown",
   "metadata": {},
   "source": [
    "## *INSERT YOUR INTERPRETATION OF THE ABOVE HERE*"
   ]
  },
  {
   "cell_type": "markdown",
   "metadata": {
    "tags": []
   },
   "source": [
    "<div class=\"alert alert-success\">\n",
    "    <h3>BONUS EXERCISE: It's been suggested before that lead exposure might \"mediate\" the relationship between low income and lower cognitive scores. This is, neighborhoods with lower incomes tend have older homes with lead paint problems. If you have extra time, feel free to try using the `causal-curve` package's `Mediation` tool. This will tell you the extent to which blood lead exposure mediates income and any test score (when all three are continuous variables) </h3>\n",
    "    \n",
    "\n",
    "<h3>If the percent mediation is high, that might indicate that lead exposure is the primary cause connecting lower income to cognitive scores in the country. If it is a moderate or low percentage, than it's just a piece of a larger puzzle of multiple factors. </h3>\n",
    "\n",
    "</div>\n"
   ]
  },
  {
   "cell_type": "code",
   "execution_count": null,
   "metadata": {},
   "outputs": [],
   "source": []
  }
 ],
 "metadata": {
  "kernelspec": {
   "display_name": "Python (test env)",
   "language": "python",
   "name": "test"
  },
  "language_info": {
   "codemirror_mode": {
    "name": "ipython",
    "version": 3
   },
   "file_extension": ".py",
   "mimetype": "text/x-python",
   "name": "python",
   "nbconvert_exporter": "python",
   "pygments_lexer": "ipython3",
   "version": "3.6.12"
  }
 },
 "nbformat": 4,
 "nbformat_minor": 4
}
