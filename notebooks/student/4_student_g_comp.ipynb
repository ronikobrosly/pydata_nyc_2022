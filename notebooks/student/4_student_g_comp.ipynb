{
 "cells": [
  {
   "cell_type": "markdown",
   "id": "4fc308d6-3f49-41e9-b66a-a1b6da78d2fc",
   "metadata": {},
   "source": [
    "# Notebook 4 - g-computation method (student notebook)"
   ]
  },
  {
   "cell_type": "markdown",
   "id": "d3ce39a2-5c9c-4f00-8abc-a1abf90768bb",
   "metadata": {},
   "source": [
    "Let's reconsider the LaLonde dataset as we try to implement a g-computation implementation from scratch. "
   ]
  },
  {
   "cell_type": "code",
   "execution_count": null,
   "id": "884d54e5-20d3-401a-ad3c-ca9a7f135e27",
   "metadata": {},
   "outputs": [],
   "source": [
    "import matplotlib.pyplot as plt\n",
    "import pandas as pd\n",
    "from sklearn.ensemble import RandomForestRegressor\n",
    "from sklearn.metrics import mean_squared_error\n",
    "from sklearn.model_selection import train_test_split\n",
    "from sklearn.linear_model import LinearRegression\n",
    "from sklearn.neighbors import NearestNeighbors\n",
    "from sklearn.preprocessing import StandardScaler\n",
    "from statsmodels.distributions.empirical_distribution import ECDF\n",
    "\n",
    "%matplotlib inline\n",
    "plt.rcParams['figure.figsize'] = [10, 5]"
   ]
  },
  {
   "cell_type": "code",
   "execution_count": null,
   "id": "a512ca09-969f-408a-9171-b34816477a45",
   "metadata": {
    "tags": []
   },
   "outputs": [],
   "source": [
    "# Windows users: replace the following line with `df = pd.read_csv(r\"..\\..\\data\\lalonde.csv\")`\n",
    "df = pd.read_csv(\"../../data/lalonde.csv\")"
   ]
  },
  {
   "cell_type": "markdown",
   "id": "1f6d0d41-a96e-4203-9ce1-06a4506a9002",
   "metadata": {},
   "source": [
    "To remind you, the LaLonde dataset should contain the following 12 columns:\n",
    "\n",
    "age<br>\n",
    "   $\\;\\;\\;\\;\\;\\;$age in years.<br>\n",
    "educ<br>\n",
    "    $\\;\\;\\;\\;\\;\\;$years of schooling.<br>\n",
    "black<br>\n",
    "    $\\;\\;\\;\\;\\;\\;$indicator variable for blacks.<br>\n",
    "hisp<br>\n",
    "    $\\;\\;\\;\\;\\;\\;$indicator variable for Hispanics.<br>\n",
    "married<br>\n",
    "    $\\;\\;\\;\\;\\;\\;$indicator variable for martial status.<br>\n",
    "nodegr<br>\n",
    "    $\\;\\;\\;\\;\\;\\;$indicator variable for high school diploma.<br>\n",
    "re74<br>\n",
    "    $\\;\\;\\;\\;\\;\\;$real earnings in 1974.<br>\n",
    "re75<br>\n",
    "    $\\;\\;\\;\\;\\;\\;$real earnings in 1975.<br>\n",
    "re78<br>\n",
    "    $\\;\\;\\;\\;\\;\\;$real earnings in 1978.<br>\n",
    "u74<br>\n",
    "    $\\;\\;\\;\\;\\;\\;$indicator variable for earnings in 1974 being zero.<br>\n",
    "u75<br>\n",
    "    $\\;\\;\\;\\;\\;\\;$indicator variable for earnings in 1975 being zero.<br>\n",
    "treat<br>\n",
    "    $\\;\\;\\;\\;\\;\\;$an indicator variable for treatment status.<br>"
   ]
  },
  {
   "cell_type": "code",
   "execution_count": null,
   "id": "98712aeb-1e4f-4eb1-8f1a-b332104a02aa",
   "metadata": {
    "tags": []
   },
   "outputs": [],
   "source": [
    "df.head()"
   ]
  },
  {
   "cell_type": "code",
   "execution_count": null,
   "id": "69a1e0d8-dfa6-4d61-a638-ff571fda1035",
   "metadata": {},
   "outputs": [],
   "source": [
    "df['ID'] = range(0,445)"
   ]
  },
  {
   "cell_type": "code",
   "execution_count": null,
   "id": "d78bb756-84c0-4be0-8c9f-6c010a2d6dd0",
   "metadata": {},
   "outputs": [],
   "source": [
    "df = df[['ID', 'age', 'educ', 'black', 'hisp', 'married', 're78', 'treat']]"
   ]
  },
  {
   "cell_type": "code",
   "execution_count": null,
   "id": "d7462c73-8df1-4772-94c8-d67f216e7308",
   "metadata": {},
   "outputs": [],
   "source": [
    "# Let's scale our continuous covariates\n",
    "features = df[['age', 'educ']]\n",
    "\n",
    "# Use scaler of choice; here Standard scaler is used\n",
    "scaler = StandardScaler().fit(features.values)\n",
    "features = scaler.transform(features.values)\n",
    "\n",
    "df[['scaled_age', 'scaled_educ']] = features"
   ]
  },
  {
   "cell_type": "markdown",
   "id": "593f084e-1041-4c96-a90f-7a199ec6258d",
   "metadata": {
    "tags": []
   },
   "source": [
    "## First, let's train a predictive model with scikit-learn. This model should take in the treatment variable and covariates, and predict the outcome variable (i.e. `re78`)"
   ]
  },
  {
   "cell_type": "markdown",
   "id": "fb9423b9-511e-45e8-b1fa-62b2061a8825",
   "metadata": {},
   "source": [
    "If you're curious about how well the model performs that's probably a good thing to be curious about. Let's split our small dataset into test and training sets. Now, admittedly, we have a tiny dataset, but we're doing this to show that standard ML evaluation methods are still relevant here.\n"
   ]
  },
  {
   "cell_type": "code",
   "execution_count": null,
   "id": "86048f1e-7796-439b-b8ac-4f2ae1469102",
   "metadata": {},
   "outputs": [],
   "source": [
    "train_df, test_df = train_test_split(df, test_size = 0.20, random_state = 512)"
   ]
  },
  {
   "cell_type": "code",
   "execution_count": null,
   "id": "a404252d-a9e7-4ed7-a69e-e3fc49af4679",
   "metadata": {},
   "outputs": [],
   "source": [
    "features = ['scaled_age', 'scaled_educ', 'black', 'hisp', 'married', 'treat']"
   ]
  },
  {
   "cell_type": "markdown",
   "id": "3f823598-dd6f-48c0-97ec-b626741c8d43",
   "metadata": {},
   "source": [
    "Given the tiny data, let's use simple ML like a multiple linear regression model"
   ]
  },
  {
   "cell_type": "code",
   "execution_count": null,
   "id": "ea2a2379-d648-4d16-8c30-140236ac7a27",
   "metadata": {},
   "outputs": [],
   "source": [
    "temp_model = LinearRegression().fit(X = train_df[features], y = train_df['re78'])"
   ]
  },
  {
   "cell_type": "code",
   "execution_count": null,
   "id": "930cb9a0-de3d-42d7-99e7-63c1f518ee05",
   "metadata": {},
   "outputs": [],
   "source": [
    "mean_squared_error(temp_model.predict(test_df[features]).reshape(-1,1), test_df['re78'].values.reshape(-1,1))"
   ]
  },
  {
   "cell_type": "markdown",
   "id": "00a80dbb-dc98-4435-875d-a484c5d617e8",
   "metadata": {},
   "source": [
    "You could compare different model types here to see which performs best in a hold-out set. Not surprisingly, given the small dataset, it's going to be hard to find a model that performs well. Ideally, we want a fairly good predicive model so that we can see accurate counterfactual outcomes. Anyways, this is just a demonstration so the model doesn't have to perform outstandingly well. Let's now train on the whole dataset."
   ]
  },
  {
   "cell_type": "code",
   "execution_count": null,
   "id": "e186f3bd-2580-406e-bd7c-72c487acb285",
   "metadata": {},
   "outputs": [],
   "source": [
    "model = LinearRegression().fit(X = df[features], y = df['re78'])"
   ]
  },
  {
   "cell_type": "markdown",
   "id": "10aee556-31a8-4656-85e4-fa0c77c099cd",
   "metadata": {},
   "source": [
    "## Now that we have a model we can start making predictions to see counterfactual outcomes"
   ]
  },
  {
   "cell_type": "markdown",
   "id": "ec638e13-0b16-45c2-bf8d-85bc2685465b",
   "metadata": {},
   "source": [
    "<div class=\"alert alert-success\">\n",
    "    <h3>EXERCISE: Take the full dataset and \"force\" everyone to have received the treatment, what is the mean value of real earnings from 1978 that you predict with your model?</h3>\n",
    "</div>"
   ]
  },
  {
   "cell_type": "code",
   "execution_count": null,
   "id": "ac9f66b6-12e8-4531-a082-4dd9a25ee9bd",
   "metadata": {},
   "outputs": [],
   "source": [
    "df_treat = df.copy()\n",
    "df_treat['treat'] = ____"
   ]
  },
  {
   "cell_type": "code",
   "execution_count": null,
   "id": "7902469c-e55a-4520-8f1d-92f73cc087ef",
   "metadata": {},
   "outputs": [],
   "source": [
    "mean_treat = model.predict(df_treat[features]).mean()"
   ]
  },
  {
   "cell_type": "code",
   "execution_count": null,
   "id": "8dbb4fed-b7e4-4bf8-baeb-f94428bef93f",
   "metadata": {},
   "outputs": [],
   "source": [
    "print(f\"Mean outcome value is {round(mean_treat, 2)}\")"
   ]
  },
  {
   "cell_type": "markdown",
   "id": "ae963f19-956d-4cc9-94c7-6ee8a576463b",
   "metadata": {},
   "source": [
    "<div class=\"alert alert-success\">\n",
    "    <h3>EXERCISE: Now \"force\" everyone to have not received the treatment. What is the mean outcome value you get now?</h3>\n",
    "</div>"
   ]
  },
  {
   "cell_type": "code",
   "execution_count": null,
   "id": "793cacd6-460f-465c-9a3b-0be1147e0495",
   "metadata": {},
   "outputs": [],
   "source": [
    "df_ctrl = df.copy()\n",
    "df_ctrl['treat'] = ______"
   ]
  },
  {
   "cell_type": "code",
   "execution_count": null,
   "id": "5bfc91db-ce92-4434-84b3-d9c5fc68a6eb",
   "metadata": {},
   "outputs": [],
   "source": [
    "mean_ctrl = model.predict(df_ctrl[features]).mean()"
   ]
  },
  {
   "cell_type": "code",
   "execution_count": null,
   "id": "b24a06b6-43c6-4caf-a0df-9e7fe66926e2",
   "metadata": {},
   "outputs": [],
   "source": [
    "print(f\"Mean outcome value is {round(mean_ctrl, 2)}\")"
   ]
  },
  {
   "cell_type": "markdown",
   "id": "ea3c07b2-d897-4ff2-8563-3ab5c004d2f0",
   "metadata": {},
   "source": [
    "## The difference (6283.43 - 4601.56 = 1681.87) between these two represents the average treat effect (ATE). This is the expected mean difference in real earnings between a population that received the treatment and the same population that didn't receive the treatment. Confounders are adjusted for. "
   ]
  },
  {
   "cell_type": "markdown",
   "id": "5295b2db-772f-440d-a127-b3eb8366f5dd",
   "metadata": {},
   "source": [
    "## You could obtain confidence intervals around this estimate by taking bootstrap replicates of the original dataset, training a new model on each replicate, and then calculating the ATE for each replicate. The 2.5th and 97.5th percentiles of these values would represent the bounds of your 95% confidence interval."
   ]
  },
  {
   "cell_type": "markdown",
   "id": "41dd4f46-268f-4966-9cd0-53dc7bca4c1d",
   "metadata": {},
   "source": [
    "<div class=\"alert alert-success\">\n",
    "    <h3>EXERCISE: Can you calculate the average treatment effect among the treated (ATT)? Hint: just as the metric's name suggests, you would focus exclusively on the originally treated group, and see how a receiving and not receiving the treatment among that group would play out.</h3>\n",
    "</div>"
   ]
  },
  {
   "cell_type": "code",
   "execution_count": null,
   "id": "b7858fa4-74b1-4b1e-949c-a589ccb81ad6",
   "metadata": {},
   "outputs": [],
   "source": []
  },
  {
   "cell_type": "markdown",
   "id": "3a7a5ca8-f8f0-4234-a9fb-7209f4c3bdc7",
   "metadata": {},
   "source": [
    "## Interestingly the ATT and ATE are the same in this exercise. Don't expected that to be the case often. We used a tiny dataset, with a small number of features, with a very simple linear model. In real life having different ATE, ATT, and ATU values are the norm."
   ]
  }
 ],
 "metadata": {
  "kernelspec": {
   "display_name": "Python (test)",
   "language": "python",
   "name": "test"
  },
  "language_info": {
   "codemirror_mode": {
    "name": "ipython",
    "version": 3
   },
   "file_extension": ".py",
   "mimetype": "text/x-python",
   "name": "python",
   "nbconvert_exporter": "python",
   "pygments_lexer": "ipython3",
   "version": "3.9.11"
  }
 },
 "nbformat": 4,
 "nbformat_minor": 5
}
