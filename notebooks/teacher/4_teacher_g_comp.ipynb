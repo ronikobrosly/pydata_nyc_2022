{
 "cells": [
  {
   "cell_type": "markdown",
   "id": "4fc308d6-3f49-41e9-b66a-a1b6da78d2fc",
   "metadata": {},
   "source": [
    "# Notebook 4 - g-computation method (teacher notebook)"
   ]
  },
  {
   "cell_type": "markdown",
   "id": "d3ce39a2-5c9c-4f00-8abc-a1abf90768bb",
   "metadata": {},
   "source": [
    "Let's reconsider the LaLonde dataset as we try to implement a g-computation implementation from scratch. "
   ]
  },
  {
   "cell_type": "code",
   "execution_count": 1,
   "id": "884d54e5-20d3-401a-ad3c-ca9a7f135e27",
   "metadata": {},
   "outputs": [],
   "source": [
    "import matplotlib.pyplot as plt\n",
    "import pandas as pd\n",
    "from sklearn.ensemble import RandomForestRegressor\n",
    "from sklearn.metrics import mean_squared_error\n",
    "from sklearn.model_selection import train_test_split\n",
    "from sklearn.linear_model import LinearRegression\n",
    "from sklearn.neighbors import NearestNeighbors\n",
    "from sklearn.preprocessing import StandardScaler\n",
    "from statsmodels.distributions.empirical_distribution import ECDF\n",
    "\n",
    "%matplotlib inline\n",
    "plt.rcParams['figure.figsize'] = [10, 5]"
   ]
  },
  {
   "cell_type": "code",
   "execution_count": 2,
   "id": "a512ca09-969f-408a-9171-b34816477a45",
   "metadata": {
    "tags": []
   },
   "outputs": [],
   "source": [
    "# Windows users: replace the following line with `df = pd.read_csv(r\"..\\..\\data\\lalonde.csv\")`\n",
    "df = pd.read_csv(\"../../data/lalonde.csv\")"
   ]
  },
  {
   "cell_type": "markdown",
   "id": "1f6d0d41-a96e-4203-9ce1-06a4506a9002",
   "metadata": {},
   "source": [
    "To remind you, the LaLonde dataset should contain the following 12 columns:\n",
    "\n",
    "age<br>\n",
    "   $\\;\\;\\;\\;\\;\\;$age in years.<br>\n",
    "educ<br>\n",
    "    $\\;\\;\\;\\;\\;\\;$years of schooling.<br>\n",
    "black<br>\n",
    "    $\\;\\;\\;\\;\\;\\;$indicator variable for blacks.<br>\n",
    "hisp<br>\n",
    "    $\\;\\;\\;\\;\\;\\;$indicator variable for Hispanics.<br>\n",
    "married<br>\n",
    "    $\\;\\;\\;\\;\\;\\;$indicator variable for martial status.<br>\n",
    "nodegr<br>\n",
    "    $\\;\\;\\;\\;\\;\\;$indicator variable for high school diploma.<br>\n",
    "re74<br>\n",
    "    $\\;\\;\\;\\;\\;\\;$real earnings in 1974.<br>\n",
    "re75<br>\n",
    "    $\\;\\;\\;\\;\\;\\;$real earnings in 1975.<br>\n",
    "re78<br>\n",
    "    $\\;\\;\\;\\;\\;\\;$real earnings in 1978.<br>\n",
    "u74<br>\n",
    "    $\\;\\;\\;\\;\\;\\;$indicator variable for earnings in 1974 being zero.<br>\n",
    "u75<br>\n",
    "    $\\;\\;\\;\\;\\;\\;$indicator variable for earnings in 1975 being zero.<br>\n",
    "treat<br>\n",
    "    $\\;\\;\\;\\;\\;\\;$an indicator variable for treatment status.<br>"
   ]
  },
  {
   "cell_type": "code",
   "execution_count": 3,
   "id": "98712aeb-1e4f-4eb1-8f1a-b332104a02aa",
   "metadata": {
    "tags": []
   },
   "outputs": [
    {
     "data": {
      "text/html": [
       "<div>\n",
       "<style scoped>\n",
       "    .dataframe tbody tr th:only-of-type {\n",
       "        vertical-align: middle;\n",
       "    }\n",
       "\n",
       "    .dataframe tbody tr th {\n",
       "        vertical-align: top;\n",
       "    }\n",
       "\n",
       "    .dataframe thead th {\n",
       "        text-align: right;\n",
       "    }\n",
       "</style>\n",
       "<table border=\"1\" class=\"dataframe\">\n",
       "  <thead>\n",
       "    <tr style=\"text-align: right;\">\n",
       "      <th></th>\n",
       "      <th>age</th>\n",
       "      <th>educ</th>\n",
       "      <th>black</th>\n",
       "      <th>hisp</th>\n",
       "      <th>married</th>\n",
       "      <th>nodegr</th>\n",
       "      <th>re74</th>\n",
       "      <th>re75</th>\n",
       "      <th>re78</th>\n",
       "      <th>u74</th>\n",
       "      <th>u75</th>\n",
       "      <th>treat</th>\n",
       "    </tr>\n",
       "  </thead>\n",
       "  <tbody>\n",
       "    <tr>\n",
       "      <th>0</th>\n",
       "      <td>37</td>\n",
       "      <td>11</td>\n",
       "      <td>1</td>\n",
       "      <td>0</td>\n",
       "      <td>1</td>\n",
       "      <td>1</td>\n",
       "      <td>0.0</td>\n",
       "      <td>0.0</td>\n",
       "      <td>9930.05</td>\n",
       "      <td>1</td>\n",
       "      <td>1</td>\n",
       "      <td>1</td>\n",
       "    </tr>\n",
       "    <tr>\n",
       "      <th>1</th>\n",
       "      <td>22</td>\n",
       "      <td>9</td>\n",
       "      <td>0</td>\n",
       "      <td>1</td>\n",
       "      <td>0</td>\n",
       "      <td>1</td>\n",
       "      <td>0.0</td>\n",
       "      <td>0.0</td>\n",
       "      <td>3595.89</td>\n",
       "      <td>1</td>\n",
       "      <td>1</td>\n",
       "      <td>1</td>\n",
       "    </tr>\n",
       "    <tr>\n",
       "      <th>2</th>\n",
       "      <td>30</td>\n",
       "      <td>12</td>\n",
       "      <td>1</td>\n",
       "      <td>0</td>\n",
       "      <td>0</td>\n",
       "      <td>0</td>\n",
       "      <td>0.0</td>\n",
       "      <td>0.0</td>\n",
       "      <td>24909.50</td>\n",
       "      <td>1</td>\n",
       "      <td>1</td>\n",
       "      <td>1</td>\n",
       "    </tr>\n",
       "    <tr>\n",
       "      <th>3</th>\n",
       "      <td>27</td>\n",
       "      <td>11</td>\n",
       "      <td>1</td>\n",
       "      <td>0</td>\n",
       "      <td>0</td>\n",
       "      <td>1</td>\n",
       "      <td>0.0</td>\n",
       "      <td>0.0</td>\n",
       "      <td>7506.15</td>\n",
       "      <td>1</td>\n",
       "      <td>1</td>\n",
       "      <td>1</td>\n",
       "    </tr>\n",
       "    <tr>\n",
       "      <th>4</th>\n",
       "      <td>33</td>\n",
       "      <td>8</td>\n",
       "      <td>1</td>\n",
       "      <td>0</td>\n",
       "      <td>0</td>\n",
       "      <td>1</td>\n",
       "      <td>0.0</td>\n",
       "      <td>0.0</td>\n",
       "      <td>289.79</td>\n",
       "      <td>1</td>\n",
       "      <td>1</td>\n",
       "      <td>1</td>\n",
       "    </tr>\n",
       "  </tbody>\n",
       "</table>\n",
       "</div>"
      ],
      "text/plain": [
       "   age  educ  black  hisp  married  nodegr  re74  re75      re78  u74  u75  \\\n",
       "0   37    11      1     0        1       1   0.0   0.0   9930.05    1    1   \n",
       "1   22     9      0     1        0       1   0.0   0.0   3595.89    1    1   \n",
       "2   30    12      1     0        0       0   0.0   0.0  24909.50    1    1   \n",
       "3   27    11      1     0        0       1   0.0   0.0   7506.15    1    1   \n",
       "4   33     8      1     0        0       1   0.0   0.0    289.79    1    1   \n",
       "\n",
       "   treat  \n",
       "0      1  \n",
       "1      1  \n",
       "2      1  \n",
       "3      1  \n",
       "4      1  "
      ]
     },
     "execution_count": 3,
     "metadata": {},
     "output_type": "execute_result"
    }
   ],
   "source": [
    "df.head()"
   ]
  },
  {
   "cell_type": "code",
   "execution_count": 4,
   "id": "69a1e0d8-dfa6-4d61-a638-ff571fda1035",
   "metadata": {},
   "outputs": [],
   "source": [
    "df['ID'] = range(0,445)"
   ]
  },
  {
   "cell_type": "code",
   "execution_count": 5,
   "id": "d78bb756-84c0-4be0-8c9f-6c010a2d6dd0",
   "metadata": {},
   "outputs": [],
   "source": [
    "df = df[['ID', 'age', 'educ', 'black', 'hisp', 'married', 're78', 'treat']]"
   ]
  },
  {
   "cell_type": "code",
   "execution_count": 6,
   "id": "d7462c73-8df1-4772-94c8-d67f216e7308",
   "metadata": {},
   "outputs": [],
   "source": [
    "# Let's scale our continuous covariates\n",
    "features = df[['age', 'educ']]\n",
    "\n",
    "# Use scaler of choice; here Standard scaler is used\n",
    "scaler = StandardScaler().fit(features.values)\n",
    "features = scaler.transform(features.values)\n",
    "\n",
    "df[['scaled_age', 'scaled_educ']] = features"
   ]
  },
  {
   "cell_type": "markdown",
   "id": "593f084e-1041-4c96-a90f-7a199ec6258d",
   "metadata": {
    "tags": []
   },
   "source": [
    "## First, let's train a predictive model with scikit-learn. This model should take in the treatment variable and covariates, and predict the outcome variable (i.e. `re78`)"
   ]
  },
  {
   "cell_type": "markdown",
   "id": "fb9423b9-511e-45e8-b1fa-62b2061a8825",
   "metadata": {},
   "source": [
    "If you're curious about how well the model performs that's probably a good thing to be curious about. Let's split our small dataset into test and training sets. Now, admittedly, we have a tiny dataset, but we're doing this to show that standard ML evaluation methods are still relevant here.\n"
   ]
  },
  {
   "cell_type": "code",
   "execution_count": 7,
   "id": "86048f1e-7796-439b-b8ac-4f2ae1469102",
   "metadata": {},
   "outputs": [],
   "source": [
    "train_df, test_df = train_test_split(df, test_size = 0.20, random_state = 512)"
   ]
  },
  {
   "cell_type": "code",
   "execution_count": 8,
   "id": "a404252d-a9e7-4ed7-a69e-e3fc49af4679",
   "metadata": {},
   "outputs": [],
   "source": [
    "features = ['scaled_age', 'scaled_educ', 'black', 'hisp', 'married', 'treat']"
   ]
  },
  {
   "cell_type": "markdown",
   "id": "3f823598-dd6f-48c0-97ec-b626741c8d43",
   "metadata": {},
   "source": [
    "Given the tiny data, let's use simple ML like a multiple linear regression model"
   ]
  },
  {
   "cell_type": "code",
   "execution_count": 9,
   "id": "ea2a2379-d648-4d16-8c30-140236ac7a27",
   "metadata": {},
   "outputs": [],
   "source": [
    "temp_model = LinearRegression().fit(X = train_df[features], y = train_df['re78'])"
   ]
  },
  {
   "cell_type": "code",
   "execution_count": 10,
   "id": "930cb9a0-de3d-42d7-99e7-63c1f518ee05",
   "metadata": {},
   "outputs": [
    {
     "data": {
      "text/plain": [
       "33213185.46081339"
      ]
     },
     "execution_count": 10,
     "metadata": {},
     "output_type": "execute_result"
    }
   ],
   "source": [
    "mean_squared_error(temp_model.predict(test_df[features]).reshape(-1,1), test_df['re78'].values.reshape(-1,1))"
   ]
  },
  {
   "cell_type": "markdown",
   "id": "00a80dbb-dc98-4435-875d-a484c5d617e8",
   "metadata": {},
   "source": [
    "You could compare different model types here to see which performs best in a hold-out set. Not surprisingly, given the small dataset, it's going to be hard to find a model that performs well. Ideally, we want a fairly good predicive model so that we can see accurate counterfactual outcomes. Anyways, this is just a demonstration so the model doesn't have to perform outstandingly well. Let's now train on the whole dataset."
   ]
  },
  {
   "cell_type": "code",
   "execution_count": 11,
   "id": "e186f3bd-2580-406e-bd7c-72c487acb285",
   "metadata": {},
   "outputs": [],
   "source": [
    "model = LinearRegression().fit(X = df[features], y = df['re78'])"
   ]
  },
  {
   "cell_type": "markdown",
   "id": "10aee556-31a8-4656-85e4-fa0c77c099cd",
   "metadata": {},
   "source": [
    "## Now that we have a model we can start making predictions to see counterfactual outcomes"
   ]
  },
  {
   "cell_type": "markdown",
   "id": "ec638e13-0b16-45c2-bf8d-85bc2685465b",
   "metadata": {},
   "source": [
    "<div class=\"alert alert-success\">\n",
    "    <h3>EXERCISE: Take the full dataset and \"force\" everyone to have received the treatment, what is the mean value of real earnings from 1978 that you predict with your model?</h3>\n",
    "</div>"
   ]
  },
  {
   "cell_type": "code",
   "execution_count": 12,
   "id": "f4be5f2b-8f0e-4543-8e43-71c575f98eb6",
   "metadata": {},
   "outputs": [],
   "source": [
    "df_treat = df.copy()\n",
    "df_treat['treat'] = 1"
   ]
  },
  {
   "cell_type": "code",
   "execution_count": 13,
   "id": "0d8b49c7-03ac-4ee0-974b-d15652ab4337",
   "metadata": {},
   "outputs": [
    {
     "data": {
      "text/plain": [
       "1    445\n",
       "Name: treat, dtype: int64"
      ]
     },
     "execution_count": 13,
     "metadata": {},
     "output_type": "execute_result"
    }
   ],
   "source": [
    "df_treat['treat'].value_counts()"
   ]
  },
  {
   "cell_type": "code",
   "execution_count": 14,
   "id": "ca46b47e-02e3-4ebe-b02e-a6e6e20942ef",
   "metadata": {},
   "outputs": [],
   "source": [
    "mean_treat = model.predict(df_treat[features]).mean()"
   ]
  },
  {
   "cell_type": "code",
   "execution_count": 15,
   "id": "ac9f66b6-12e8-4531-a082-4dd9a25ee9bd",
   "metadata": {},
   "outputs": [
    {
     "name": "stdout",
     "output_type": "stream",
     "text": [
      "Mean outcome value is 6283.43\n"
     ]
    }
   ],
   "source": [
    "print(f\"Mean outcome value is {round(mean_treat, 2)}\")"
   ]
  },
  {
   "cell_type": "markdown",
   "id": "ae963f19-956d-4cc9-94c7-6ee8a576463b",
   "metadata": {},
   "source": [
    "<div class=\"alert alert-success\">\n",
    "    <h3>EXERCISE: Now \"force\" everyone to have not received the treatment. What is the mean outcome value you get now?</h3>\n",
    "</div>"
   ]
  },
  {
   "cell_type": "code",
   "execution_count": 16,
   "id": "ef42a6fa-f004-414b-8abd-c2564991bcdd",
   "metadata": {},
   "outputs": [],
   "source": [
    "df_ctrl = df.copy()\n",
    "df_ctrl['treat'] = 0"
   ]
  },
  {
   "cell_type": "code",
   "execution_count": 17,
   "id": "4fd68b62-202b-425d-b6f0-64ff61e104ae",
   "metadata": {},
   "outputs": [
    {
     "data": {
      "text/plain": [
       "0    445\n",
       "Name: treat, dtype: int64"
      ]
     },
     "execution_count": 17,
     "metadata": {},
     "output_type": "execute_result"
    }
   ],
   "source": [
    "df_ctrl['treat'].value_counts()"
   ]
  },
  {
   "cell_type": "code",
   "execution_count": 18,
   "id": "926566df-774b-4541-9b84-8c5f008ad346",
   "metadata": {},
   "outputs": [],
   "source": [
    "mean_ctrl = model.predict(df_ctrl[features]).mean()"
   ]
  },
  {
   "cell_type": "code",
   "execution_count": 19,
   "id": "793cacd6-460f-465c-9a3b-0be1147e0495",
   "metadata": {},
   "outputs": [
    {
     "name": "stdout",
     "output_type": "stream",
     "text": [
      "Mean outcome value is 4601.56\n"
     ]
    }
   ],
   "source": [
    "print(f\"Mean outcome value is {round(mean_ctrl, 2)}\")"
   ]
  },
  {
   "cell_type": "markdown",
   "id": "ea3c07b2-d897-4ff2-8563-3ab5c004d2f0",
   "metadata": {},
   "source": [
    "## The difference (6283.43 - 4601.56 = 1681.87) between these two represents the average treat effect (ATE). This is the expected mean difference in real earnings between a population that received the treatment and the same population that didn't receive the treatment. Confounders are adjusted for. "
   ]
  },
  {
   "cell_type": "markdown",
   "id": "5295b2db-772f-440d-a127-b3eb8366f5dd",
   "metadata": {},
   "source": [
    "## You could obtain confidence intervals around this estimate by taking bootstrap replicates of the original dataset, training a new model on each replicate, and then calculating the ATE for each replicate. The 2.5th and 97.5th percentiles of these values would represent the bounds of your 95% confidence interval."
   ]
  },
  {
   "cell_type": "markdown",
   "id": "41dd4f46-268f-4966-9cd0-53dc7bca4c1d",
   "metadata": {},
   "source": [
    "<div class=\"alert alert-success\">\n",
    "    <h3>EXERCISE: Can you calculate the average treatment effect among the treated (ATT)? Hint: just as the metric's name suggests, you would focus exclusively on the originally treated group, and see how a receiving and not receiving the treatment among that group would play out.</h3>\n",
    "</div>"
   ]
  },
  {
   "cell_type": "code",
   "execution_count": 20,
   "id": "a415246f-d313-47b2-a747-e0da89decf63",
   "metadata": {},
   "outputs": [],
   "source": [
    "# We're only focusing on the originally treated group now\n",
    "df_treat = df[df['treat'] == 1].copy()"
   ]
  },
  {
   "cell_type": "code",
   "execution_count": 21,
   "id": "c29a0e08-4a65-4f65-bd35-10d7ef55dc48",
   "metadata": {
    "tags": []
   },
   "outputs": [],
   "source": [
    "mean_treat = model.predict(df_treat[features]).mean()"
   ]
  },
  {
   "cell_type": "code",
   "execution_count": 22,
   "id": "66391ed1-b051-4aa5-8622-da085f18d9ad",
   "metadata": {},
   "outputs": [],
   "source": [
    "# We still only focus on the originally treated group, but we predict on the counterfactual / unobserved event for them \n",
    "# (a world where they didn't receive the treatment)\n",
    "df_ctrl = df[df['treat'] == 1].copy()\n",
    "df_ctrl['treat'] = 0"
   ]
  },
  {
   "cell_type": "code",
   "execution_count": 23,
   "id": "868ef624-f955-425b-aba5-0d38ed493486",
   "metadata": {},
   "outputs": [],
   "source": [
    "mean_ctrl = model.predict(df_ctrl[features]).mean()"
   ]
  },
  {
   "cell_type": "code",
   "execution_count": 24,
   "id": "b7858fa4-74b1-4b1e-949c-a589ccb81ad6",
   "metadata": {},
   "outputs": [
    {
     "name": "stdout",
     "output_type": "stream",
     "text": [
      "The ATT is 1681.8695520414522\n"
     ]
    }
   ],
   "source": [
    "print(f\"The ATT is {mean_treat - mean_ctrl}\")"
   ]
  },
  {
   "cell_type": "markdown",
   "id": "3a7a5ca8-f8f0-4234-a9fb-7209f4c3bdc7",
   "metadata": {},
   "source": [
    "## Interestingly the ATT and ATE are the same in this exercise. Don't expected that to be the case often. We used a tiny dataset, with a small number of features, with a very simple linear model. In real life having different ATE, ATT, and ATU values is the norm."
   ]
  },
  {
   "cell_type": "code",
   "execution_count": null,
   "id": "41173db1-e6b1-4120-9e06-9748a40bcd66",
   "metadata": {},
   "outputs": [],
   "source": []
  }
 ],
 "metadata": {
  "kernelspec": {
   "display_name": "Python (intro-to-causal-inference)",
   "language": "python",
   "name": "intro-to-causal-inference"
  },
  "language_info": {
   "codemirror_mode": {
    "name": "ipython",
    "version": 3
   },
   "file_extension": ".py",
   "mimetype": "text/x-python",
   "name": "python",
   "nbconvert_exporter": "python",
   "pygments_lexer": "ipython3",
   "version": "3.9.11"
  }
 },
 "nbformat": 4,
 "nbformat_minor": 5
}
