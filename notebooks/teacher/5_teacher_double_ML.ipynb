{
 "cells": [
  {
   "cell_type": "markdown",
   "id": "4fc308d6-3f49-41e9-b66a-a1b6da78d2fc",
   "metadata": {},
   "source": [
    "# Notebook 5 - Double ML (teacher notebook)"
   ]
  },
  {
   "cell_type": "markdown",
   "id": "d3ce39a2-5c9c-4f00-8abc-a1abf90768bb",
   "metadata": {},
   "source": [
    "Let's look at the \"Twins\" data, which was used in the academic paper: Almond D et al. \"The costs of low birth weight.\" The Quarterly Journal of Economics 120.3 (2005): 1031-1083.\n"
   ]
  },
  {
   "cell_type": "code",
   "execution_count": 1,
   "id": "884d54e5-20d3-401a-ad3c-ca9a7f135e27",
   "metadata": {
    "tags": []
   },
   "outputs": [],
   "source": [
    "import doubleml as dml\n",
    "import matplotlib.pyplot as plt\n",
    "import numpy as np\n",
    "import pandas as pd\n",
    "from sklearn.ensemble import RandomForestClassifier, RandomForestRegressor\n",
    "from sklearn.linear_model import LinearRegression, LogisticRegression\n",
    "from sklearn.tree import DecisionTreeClassifier, DecisionTreeRegressor\n",
    "\n",
    "%matplotlib inline\n",
    "plt.rcParams['figure.figsize'] = [10, 5]"
   ]
  },
  {
   "cell_type": "code",
   "execution_count": 2,
   "id": "a512ca09-969f-408a-9171-b34816477a45",
   "metadata": {
    "tags": []
   },
   "outputs": [],
   "source": [
    "# Windows users: replace the following line with `df = pd.read_csv(r\"..\\..\\data\\twins.csv.gz\")`\n",
    "df = pd.read_csv(\"../../data/twins.csv.gz\", compression='gzip')"
   ]
  },
  {
   "cell_type": "markdown",
   "id": "1f6d0d41-a96e-4203-9ce1-06a4506a9002",
   "metadata": {},
   "source": [
    "## This dataset has lots of columns in it. If you'd like to learn more about this data [you can visit this repo](https://github.com/AMLab-Amsterdam/CEVAE/blob/master/datasets/TWINS/ReadmeTwins).\n",
    "\n",
    "The outcome of interest:\n",
    "* `dbirwt_0` represents birthweight (in grams)\n",
    "\n",
    "The \"treatment\" of interest:\n",
    "* `tobacco` represents whether there was smoking present in the family while the mother was pregnant\n",
    "\n",
    "All the covariates:\n",
    "* 'adequacy': 'adequacy of care',\n",
    "* 'alcohol': 'risk factor, alcohol use',\n",
    "* 'anemia': 'risk factor, Anemia',\n",
    "* 'birattnd': 'medical person attending birth',\n",
    "* 'birmon': 'birth month Jan-Dec',\n",
    "* 'bord_0': 'birth order of lighter twin',\n",
    "* 'brstate': 'state of residence NCHS',\n",
    "* 'brstate_reg': 'US census region of brstate',\n",
    "* 'cardiac': 'risk factor, Cardiac',\n",
    "* 'chyper': 'risk factor, Hypertension, chronic',\n",
    "* 'cigar6': 'num of cigarettes /day, quantiled',\n",
    "* 'crace': 'race of child',\n",
    "* 'csex': 'sex of child',\n",
    "* 'data_year': 'year: 1989, 1990 or 1991',\n",
    "* 'dfageq': 'octile age of father',\n",
    "* 'diabetes': 'risk factor, Diabetes',\n",
    "* 'dlivord_min': 'number of live births before twins',\n",
    "* 'dmar': 'married',\n",
    "* 'drink5': 'num of drinks /week, quantiled',\n",
    "* 'dtotord_min': 'total number of births before twins',\n",
    "* 'eclamp': 'risk factor, Eclampsia',\n",
    "* 'feduc6': 'education category',\n",
    "* 'frace': 'dad race',\n",
    "* 'gestat10': 'gestation 10 categories',\n",
    "* 'hemo': 'risk factor Hemoglobinopathy',\n",
    "* 'herpes': 'risk factor, Herpes',\n",
    "* 'hydra': 'risk factor Hvdramnios/Oliqohvdramnios',\n",
    "* 'incervix': 'risk factor, Incompetent cervix',\n",
    "* 'infant_id_0': 'infant id of lighter twin in original df',\n",
    "* 'lung': 'risk factor, Lung',\n",
    "* 'mager8': 'mom age',\n",
    "* 'meduc6': 'mom education',\n",
    "* 'mplbir': 'mom place of birth',\n",
    "* 'mplbir_reg': US census region of mplbir',\n",
    "* 'mpre5': 'trimester prenatal care begun, 4 is none',\n",
    "* 'mrace': 'mom race',\n",
    "* 'nprevistq': 'quintile number of prenatal visits',\n",
    "* 'orfath': 'dad hispanic',\n",
    "* 'ormoth': 'mom hispanic',\n",
    "* 'othermr': 'risk factor, Other Medical Risk Factors',\n",
    "* 'phyper': 'risk factor, Hypertension, preqnancy-associated',\n",
    "* 'pldel': 'place of delivery',\n",
    "* 'pre4000': 'risk factor, Previous infant 4000+ grams',\n",
    "* 'preterm': 'risk factor, Previos pre-term or small',\n",
    "* 'renal': 'risk factor, Renal disease',\n",
    "* 'rh': 'risk factor, RH sensitization',\n",
    "* 'stoccfipb': 'state of occurence FIPB',\n",
    "* 'stoccfipb_reg': 'US census region of stoccfipb',\n",
    "* 'uterine': 'risk factor, Uterine bleeding'\n",
    "\n"
   ]
  },
  {
   "cell_type": "markdown",
   "id": "40a8a4b8-f07b-4c41-b539-bc3ec2997ff4",
   "metadata": {},
   "source": [
    "## The `DoubleML` package requires an interesting workflow. First, you need to instantiate a \"data model\" in which you specify the outcome, the treatment, and the covariates"
   ]
  },
  {
   "cell_type": "code",
   "execution_count": 3,
   "id": "20f9da65-2281-4053-964b-eae4a8dae3c2",
   "metadata": {},
   "outputs": [
    {
     "name": "stdout",
     "output_type": "stream",
     "text": [
      "================== DoubleMLData Object ==================\n",
      "\n",
      "------------------ Data summary      ------------------\n",
      "Outcome variable: dbirwt_0\n",
      "Treatment variable(s): ['tobacco']\n",
      "Covariates: ['mager8', 'csex', 'anemia', 'cardiac', 'lung', 'diabetes', 'herpes', 'eclamp', 'preterm', 'renal', 'rh', 'alcohol', 'dfageq']\n",
      "Instrument variable(s): None\n",
      "No. Observations: 32120\n",
      "\n",
      "------------------ DataFrame info    ------------------\n",
      "<class 'pandas.core.frame.DataFrame'>\n",
      "RangeIndex: 32120 entries, 0 to 32119\n",
      "Columns: 51 entries, dbirwt_0 to mplbir_reg\n",
      "dtypes: float64(39), int64(12)\n",
      "memory usage: 12.5 MB\n",
      "\n"
     ]
    }
   ],
   "source": [
    "# We pick out a set of potential confounders to control for\n",
    "features_base = [\n",
    "    'mager8', 'csex', 'anemia', \n",
    "    'cardiac', 'lung', 'diabetes', 'herpes', 'eclamp',\n",
    "    'preterm', 'renal', 'rh', 'alcohol', 'dfageq',\n",
    "]\n",
    "\n",
    "# Initialize DoubleMLData (data-backend of DoubleML)\n",
    "data_dml_base = dml.DoubleMLData(\n",
    "    df,\n",
    "    y_col='dbirwt_0',\n",
    "    d_cols='tobacco',\n",
    "    x_cols=features_base\n",
    ")\n",
    "\n",
    "print(data_dml_base)"
   ]
  },
  {
   "cell_type": "markdown",
   "id": "ffbc52dd-c108-4940-89bf-5cdbdc263db7",
   "metadata": {},
   "source": [
    "## Now that we have instantiated our \"data model\", we can setup our \"learners\". These learners are typically just scikit-learn models. \n",
    "\n",
    "## Remember, in Double ML we construct a model to predict the outcome given all covariates and the treatment, and we also construct a model to predict treatment status from all of the covariates (hence the \"double\" in Double ML). The outcome is continuous and the treatment in this case is binary, so we'll need one regression learner and one classification learner"
   ]
  },
  {
   "cell_type": "code",
   "execution_count": 4,
   "id": "3db8cfc8-cfb9-4938-a812-8120fc2b93a0",
   "metadata": {},
   "outputs": [
    {
     "name": "stderr",
     "output_type": "stream",
     "text": [
      "C:\\Users\\ronik\\AppData\\Local\\Temp\\ipykernel_7812\\419628752.py:5: DeprecationWarning: The required positional argument ml_g was renamed to ml_l. Please adapt the argument name accordingly. ml_g is redirected to ml_l. The redirection will be removed in a future version.\n",
      "  dml_plr_forest = dml.DoubleMLPLR(data_dml_base,\n"
     ]
    },
    {
     "data": {
      "text/plain": [
       "<doubleml.double_ml_plr.DoubleMLPLR at 0x1bd231342b0>"
      ]
     },
     "execution_count": 4,
     "metadata": {},
     "output_type": "execute_result"
    }
   ],
   "source": [
    "rf = RandomForestRegressor(n_estimators=500, max_depth=5)\n",
    "rf_class = RandomForestClassifier(n_estimators=500, max_depth=5)\n",
    "\n",
    "np.random.seed(123)\n",
    "dml_plr_forest = dml.DoubleMLPLR(data_dml_base,\n",
    "                                 ml_g = rf,\n",
    "                                 ml_m = rf_class,\n",
    "                                 n_folds = 3)\n",
    "\n",
    "dml_plr_forest.fit(store_predictions=True)"
   ]
  },
  {
   "cell_type": "code",
   "execution_count": 5,
   "id": "24275a79-9a8a-4e47-9a81-487605319bd3",
   "metadata": {},
   "outputs": [
    {
     "data": {
      "text/html": [
       "<div>\n",
       "<style scoped>\n",
       "    .dataframe tbody tr th:only-of-type {\n",
       "        vertical-align: middle;\n",
       "    }\n",
       "\n",
       "    .dataframe tbody tr th {\n",
       "        vertical-align: top;\n",
       "    }\n",
       "\n",
       "    .dataframe thead th {\n",
       "        text-align: right;\n",
       "    }\n",
       "</style>\n",
       "<table border=\"1\" class=\"dataframe\">\n",
       "  <thead>\n",
       "    <tr style=\"text-align: right;\">\n",
       "      <th></th>\n",
       "      <th>coef</th>\n",
       "      <th>std err</th>\n",
       "      <th>t</th>\n",
       "      <th>P&gt;|t|</th>\n",
       "      <th>2.5 %</th>\n",
       "      <th>97.5 %</th>\n",
       "    </tr>\n",
       "  </thead>\n",
       "  <tbody>\n",
       "    <tr>\n",
       "      <th>tobacco</th>\n",
       "      <td>-178.390628</td>\n",
       "      <td>9.412588</td>\n",
       "      <td>-18.952347</td>\n",
       "      <td>4.223244e-80</td>\n",
       "      <td>-196.838961</td>\n",
       "      <td>-159.942294</td>\n",
       "    </tr>\n",
       "  </tbody>\n",
       "</table>\n",
       "</div>"
      ],
      "text/plain": [
       "               coef   std err          t         P>|t|       2.5 %      97.5 %\n",
       "tobacco -178.390628  9.412588 -18.952347  4.223244e-80 -196.838961 -159.942294"
      ]
     },
     "execution_count": 5,
     "metadata": {},
     "output_type": "execute_result"
    }
   ],
   "source": [
    "dml_plr_forest.summary"
   ]
  },
  {
   "cell_type": "markdown",
   "id": "42ce649a-0d83-4885-8fea-f68ede7c1583",
   "metadata": {},
   "source": [
    "## And there you have it. The Double ML model predicts that family tobacco use while the mother was pregnant results in a 178 gram reduction in birthweight in this population (adjusting for confounding). We can see from the output that this is a statistically significant result, as the 95% confidence interval doesn't overlap with 0. "
   ]
  },
  {
   "cell_type": "markdown",
   "id": "5df490fa-5dcf-4e0a-b3b1-a1445c0fa3c5",
   "metadata": {},
   "source": [
    "<div class=\"alert alert-success\">\n",
    "    <h3>EXERCISE: Try estimating this treatment effect using a different set of learners. How does the results compare?</h3>\n",
    "</div>"
   ]
  },
  {
   "cell_type": "code",
   "execution_count": 6,
   "id": "50a4475d-2e7b-4ca3-885e-85a43edec03f",
   "metadata": {},
   "outputs": [
    {
     "name": "stderr",
     "output_type": "stream",
     "text": [
      "C:\\Users\\ronik\\AppData\\Local\\Temp\\ipykernel_7812\\3003762421.py:5: DeprecationWarning: The required positional argument ml_g was renamed to ml_l. Please adapt the argument name accordingly. ml_g is redirected to ml_l. The redirection will be removed in a future version.\n",
      "  dml_plr_linear = dml.DoubleMLPLR(data_dml_base,\n"
     ]
    },
    {
     "data": {
      "text/plain": [
       "<doubleml.double_ml_plr.DoubleMLPLR at 0x1bd1d3ad8e0>"
      ]
     },
     "execution_count": 6,
     "metadata": {},
     "output_type": "execute_result"
    }
   ],
   "source": [
    "lin = LinearRegression()\n",
    "lin_class = LogisticRegression()\n",
    "\n",
    "np.random.seed(123)\n",
    "dml_plr_linear = dml.DoubleMLPLR(data_dml_base,\n",
    "                                 ml_g = lin,\n",
    "                                 ml_m = lin_class,\n",
    "                                 n_folds = 3)\n",
    "\n",
    "dml_plr_linear.fit(store_predictions=True)"
   ]
  },
  {
   "cell_type": "code",
   "execution_count": 7,
   "id": "2940d4c6-b027-48f1-86bd-cfa4143770c6",
   "metadata": {},
   "outputs": [
    {
     "data": {
      "text/html": [
       "<div>\n",
       "<style scoped>\n",
       "    .dataframe tbody tr th:only-of-type {\n",
       "        vertical-align: middle;\n",
       "    }\n",
       "\n",
       "    .dataframe tbody tr th {\n",
       "        vertical-align: top;\n",
       "    }\n",
       "\n",
       "    .dataframe thead th {\n",
       "        text-align: right;\n",
       "    }\n",
       "</style>\n",
       "<table border=\"1\" class=\"dataframe\">\n",
       "  <thead>\n",
       "    <tr style=\"text-align: right;\">\n",
       "      <th></th>\n",
       "      <th>coef</th>\n",
       "      <th>std err</th>\n",
       "      <th>t</th>\n",
       "      <th>P&gt;|t|</th>\n",
       "      <th>2.5 %</th>\n",
       "      <th>97.5 %</th>\n",
       "    </tr>\n",
       "  </thead>\n",
       "  <tbody>\n",
       "    <tr>\n",
       "      <th>tobacco</th>\n",
       "      <td>-180.751095</td>\n",
       "      <td>9.440232</td>\n",
       "      <td>-19.14689</td>\n",
       "      <td>1.027419e-81</td>\n",
       "      <td>-199.253611</td>\n",
       "      <td>-162.248579</td>\n",
       "    </tr>\n",
       "  </tbody>\n",
       "</table>\n",
       "</div>"
      ],
      "text/plain": [
       "               coef   std err         t         P>|t|       2.5 %      97.5 %\n",
       "tobacco -180.751095  9.440232 -19.14689  1.027419e-81 -199.253611 -162.248579"
      ]
     },
     "execution_count": 7,
     "metadata": {},
     "output_type": "execute_result"
    }
   ],
   "source": [
    "dml_plr_linear.summary"
   ]
  },
  {
   "cell_type": "code",
   "execution_count": 8,
   "id": "a51eb3f8-342c-409e-a2f9-f4ba76fd74f5",
   "metadata": {},
   "outputs": [
    {
     "name": "stderr",
     "output_type": "stream",
     "text": [
      "C:\\Users\\ronik\\AppData\\Local\\Temp\\ipykernel_7812\\3221571831.py:5: DeprecationWarning: The required positional argument ml_g was renamed to ml_l. Please adapt the argument name accordingly. ml_g is redirected to ml_l. The redirection will be removed in a future version.\n",
      "  dml_plr_DT = dml.DoubleMLPLR(data_dml_base,\n"
     ]
    },
    {
     "data": {
      "text/plain": [
       "<doubleml.double_ml_plr.DoubleMLPLR at 0x1bd23172760>"
      ]
     },
     "execution_count": 8,
     "metadata": {},
     "output_type": "execute_result"
    }
   ],
   "source": [
    "DTR = DecisionTreeRegressor()\n",
    "DTC = DecisionTreeClassifier()\n",
    "\n",
    "np.random.seed(123)\n",
    "dml_plr_DT = dml.DoubleMLPLR(data_dml_base,\n",
    "                                 ml_g = DTR,\n",
    "                                 ml_m = DTC,\n",
    "                                 n_folds = 3)\n",
    "\n",
    "dml_plr_DT.fit(store_predictions=True)\n"
   ]
  },
  {
   "cell_type": "code",
   "execution_count": 9,
   "id": "44bd9434-2b75-4a40-9e16-5014825d6c4c",
   "metadata": {},
   "outputs": [
    {
     "data": {
      "text/html": [
       "<div>\n",
       "<style scoped>\n",
       "    .dataframe tbody tr th:only-of-type {\n",
       "        vertical-align: middle;\n",
       "    }\n",
       "\n",
       "    .dataframe tbody tr th {\n",
       "        vertical-align: top;\n",
       "    }\n",
       "\n",
       "    .dataframe thead th {\n",
       "        text-align: right;\n",
       "    }\n",
       "</style>\n",
       "<table border=\"1\" class=\"dataframe\">\n",
       "  <thead>\n",
       "    <tr style=\"text-align: right;\">\n",
       "      <th></th>\n",
       "      <th>coef</th>\n",
       "      <th>std err</th>\n",
       "      <th>t</th>\n",
       "      <th>P&gt;|t|</th>\n",
       "      <th>2.5 %</th>\n",
       "      <th>97.5 %</th>\n",
       "    </tr>\n",
       "  </thead>\n",
       "  <tbody>\n",
       "    <tr>\n",
       "      <th>tobacco</th>\n",
       "      <td>-176.450517</td>\n",
       "      <td>9.563725</td>\n",
       "      <td>-18.449979</td>\n",
       "      <td>5.216570e-76</td>\n",
       "      <td>-195.195073</td>\n",
       "      <td>-157.705961</td>\n",
       "    </tr>\n",
       "  </tbody>\n",
       "</table>\n",
       "</div>"
      ],
      "text/plain": [
       "               coef   std err          t         P>|t|       2.5 %      97.5 %\n",
       "tobacco -176.450517  9.563725 -18.449979  5.216570e-76 -195.195073 -157.705961"
      ]
     },
     "execution_count": 9,
     "metadata": {},
     "output_type": "execute_result"
    }
   ],
   "source": [
    "dml_plr_DT.summary"
   ]
  },
  {
   "cell_type": "code",
   "execution_count": 10,
   "id": "dd7fc239-8eb6-4c8c-a57c-61abc4426600",
   "metadata": {},
   "outputs": [
    {
     "data": {
      "image/png": "[encoded data removed]",
      "text/plain": [
       "<Figure size 720x360 with 1 Axes>"
      ]
     },
     "metadata": {
      "needs_background": "light"
     },
     "output_type": "display_data"
    }
   ],
   "source": [
    "plr_summary = pd.concat((dml_plr_forest.summary, dml_plr_DT.summary, dml_plr_linear.summary))\n",
    "plr_summary.index = ['random_forest', 'decision_tree', 'linear']\n",
    "plr_summary[['coef', '2.5 %', '97.5 %']]\n",
    "\n",
    "errors = np.full((2, plr_summary.shape[0]), np.nan)\n",
    "errors[0, :] = plr_summary['coef'] - plr_summary['2.5 %']\n",
    "errors[1, :] = plr_summary['97.5 %'] - plr_summary['coef']\n",
    "plt.errorbar(plr_summary.index, plr_summary.coef, fmt='o', yerr=errors)\n",
    "plt.ylim([-250, 0])\n",
    "\n",
    "plt.title('Average Treatment Effects from variations of Double ML')\n",
    "plt.xlabel('ML method')\n",
    "_ =  plt.ylabel('Coefficients and 95%-CI')"
   ]
  },
  {
   "cell_type": "markdown",
   "id": "4f83a007-3d64-4b47-aef8-eca6cdf15660",
   "metadata": {},
   "source": [
    "Looks like these three different sets of learners give us about the same result in terms of ATE"
   ]
  },
  {
   "cell_type": "code",
   "execution_count": null,
   "id": "75526742-b6c8-46cf-a061-6dc3a0c12f3e",
   "metadata": {},
   "outputs": [],
   "source": []
  }
 ],
 "metadata": {
  "kernelspec": {
   "display_name": "Python (intro-to-causal-inference)",
   "language": "python",
   "name": "intro-to-causal-inference"
  },
  "language_info": {
   "codemirror_mode": {
    "name": "ipython",
    "version": 3
   },
   "file_extension": ".py",
   "mimetype": "text/x-python",
   "name": "python",
   "nbconvert_exporter": "python",
   "pygments_lexer": "ipython3",
   "version": "3.9.11"
  }
 },
 "nbformat": 4,
 "nbformat_minor": 5
}
