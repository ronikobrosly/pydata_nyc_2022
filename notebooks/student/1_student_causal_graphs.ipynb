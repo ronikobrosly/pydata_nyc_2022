{
 "cells": [
  {
   "cell_type": "markdown",
   "id": "4fc308d6-3f49-41e9-b66a-a1b6da78d2fc",
   "metadata": {},
   "source": [
    "# Notebook 1 - Exploring causal graphs and relationships (student notebook)"
   ]
  },
  {
   "cell_type": "markdown",
   "id": "d3ce39a2-5c9c-4f00-8abc-a1abf90768bb",
   "metadata": {},
   "source": [
    "In this notebook we'll work through some basic examples of causal relationships, in the form of causal graphs.\n",
    "\n",
    "__NOTE FOR WINDOWS USERS__: You may need to run the following lines in order for `graphviz` to work in this notebook:\n",
    "\n",
    "```\n",
    "import os\n",
    "os.environ[\"PATH\"] += os.pathsep + 'C:\\Program Files\\Graphviz\\bin\\' # Or to whatever folder on your machine has the graphviz bin files\n",
    "```"
   ]
  },
  {
   "cell_type": "code",
   "execution_count": null,
   "id": "884d54e5-20d3-401a-ad3c-ca9a7f135e27",
   "metadata": {},
   "outputs": [],
   "source": [
    "from causalgraphicalmodels.csm import StructuralCausalModel, linear_model, logistic_model\n",
    "import matplotlib.pyplot as plt\n",
    "import numpy as np\n",
    "from scipy.stats import norm, pearsonr\n",
    "\n",
    "%matplotlib inline\n",
    "plt.rcParams['figure.figsize'] = [10, 5]"
   ]
  },
  {
   "cell_type": "code",
   "execution_count": null,
   "id": "642347c0-a4b9-4f8f-b8b4-9fadfc2dc06b",
   "metadata": {},
   "outputs": [],
   "source": [
    "def clean_corr(corr_results):\n",
    "    \"\"\"\n",
    "    Takes the output of the scipy.stats.pearsonr function (Pearson correlation) and cleans it up for easy viewing\n",
    "    \n",
    "    Args:\n",
    "        corr_results: Tuple of floats, the output from scipy.stats.pearsonr\n",
    "        \n",
    "    Returns: None\n",
    "    \"\"\"\n",
    "    print(f\"r = {round(corr_results[0], 3)} (p =  {round(corr_results[1], 3)})\")"
   ]
  },
  {
   "cell_type": "markdown",
   "id": "9f7ad811-a592-428b-9e72-17fff94461bb",
   "metadata": {
    "tags": []
   },
   "source": [
    "## Classic confounding"
   ]
  },
  {
   "cell_type": "markdown",
   "id": "f385d31d-d150-44fc-8fe0-bdd6f4dd9489",
   "metadata": {},
   "source": [
    "Let's begin by creating a simple causal model for confounding. Remember, a covariate confounds a relationship between two variables of interest when it causes both. This can induce a spurious association between these two variables if none truly exists."
   ]
  },
  {
   "cell_type": "code",
   "execution_count": null,
   "id": "fc044d5f-7ea9-49d6-8f3e-921b40e5ab41",
   "metadata": {
    "tags": []
   },
   "outputs": [],
   "source": [
    "# Create a toy model here for confounding. We can specify the relationships between three variables\n",
    "cie_example = StructuralCausalModel({\n",
    "    \"smoking\": lambda n_samples: np.random.binomial(1, p=0.30, size=n_samples), \n",
    "    \"coffee\": linear_model([\"smoking\"], [1.5]),\n",
    "    \"lung cancer risk\": linear_model([\"smoking\"], [6])\n",
    "})"
   ]
  },
  {
   "cell_type": "code",
   "execution_count": null,
   "id": "358710e9-67ef-456f-9d2a-9122bc554de7",
   "metadata": {
    "tags": []
   },
   "outputs": [],
   "source": [
    "cie_cgm = cie_example.cgm\n",
    "cie_cgm.draw()"
   ]
  },
  {
   "cell_type": "markdown",
   "id": "d3bdb28e-2870-410c-a5d6-2313d046d5f7",
   "metadata": {},
   "source": [
    "Now that we've specified the relationships between these variables, we can simulate a dataset with these relationships..."
   ]
  },
  {
   "cell_type": "code",
   "execution_count": null,
   "id": "223e7571-5de2-46ab-8c31-0b051693da70",
   "metadata": {},
   "outputs": [],
   "source": [
    "data = cie_example.sample(n_samples=100000)\n",
    "data.head()"
   ]
  },
  {
   "cell_type": "markdown",
   "id": "0d83db9c-2c14-4856-8ea2-113ee7151ecb",
   "metadata": {},
   "source": [
    "A statistical reminder: Pearson correlation coefficients can vary between -1 to 1. -1 indicates a perfect negative/inverse correlation between two variables, while 0 indicates no correlation, and 1 indicates a perfect positive correlation. We can see that there is an apparent moderately strong, positive association between the coffee and lung cancer risk variables"
   ]
  },
  {
   "cell_type": "code",
   "execution_count": null,
   "id": "7461ac7c-51d2-414d-b6a8-06db2990ebb1",
   "metadata": {},
   "outputs": [],
   "source": [
    "clean_corr(\n",
    "    pearsonr(data['coffee'], data['lung cancer risk'])\n",
    ")"
   ]
  },
  {
   "cell_type": "markdown",
   "id": "8b3124fc-722f-4625-aa41-3fdcb3d94bf1",
   "metadata": {},
   "source": [
    "As a sanity check, let's plot the relationship between coffee and lung cancer risk"
   ]
  },
  {
   "cell_type": "code",
   "execution_count": null,
   "id": "0bb5a353-6007-40f8-9d40-1b839060e71d",
   "metadata": {},
   "outputs": [],
   "source": [
    "plt.scatter(data['coffee'], data['lung cancer risk'])"
   ]
  },
  {
   "cell_type": "markdown",
   "id": "eb2c54ef-4d80-4dd5-94b7-7b655734073e",
   "metadata": {},
   "source": [
    "There's a lot of overlapping data there, so let's create a hexbin heatmap plot to better see what's going on here."
   ]
  },
  {
   "cell_type": "code",
   "execution_count": null,
   "id": "28dca6dc-7f3a-420c-b42b-ad8c482a7bca",
   "metadata": {},
   "outputs": [],
   "source": [
    "plt.hexbin(data['coffee'], data['lung cancer risk'], gridsize=50)"
   ]
  },
  {
   "cell_type": "markdown",
   "id": "65a69c7b-501b-4e5e-b360-0a51bcc001c4",
   "metadata": {},
   "source": [
    "We can disrupt the confounding by stratifying on smoking. Let's filter the dataset so that we only consider smokers (we could just as easily restrict on non-smokers and this would work too)"
   ]
  },
  {
   "cell_type": "code",
   "execution_count": null,
   "id": "8b9e6f82-39af-4b1f-a6f9-ddcd1dd25b45",
   "metadata": {},
   "outputs": [],
   "source": [
    "data2 = data[data['smoking'] == 0]"
   ]
  },
  {
   "cell_type": "markdown",
   "id": "c109887c-f7ce-4828-bc2a-8aefb6748130",
   "metadata": {},
   "source": [
    "After we do this, the association between coffee and lung cancer risk vanishes entirely!"
   ]
  },
  {
   "cell_type": "code",
   "execution_count": null,
   "id": "dba49ae7-c19d-4a51-b215-cc4262adf6f4",
   "metadata": {},
   "outputs": [],
   "source": [
    "clean_corr(\n",
    "    pearsonr(data2['coffee'], data2['lung cancer risk'])\n",
    ")"
   ]
  },
  {
   "cell_type": "code",
   "execution_count": null,
   "id": "8b0b1d48-e326-4e7f-951a-4d95252f2a3a",
   "metadata": {},
   "outputs": [],
   "source": [
    "plt.hexbin(data2['coffee'], data2['lung cancer risk'], gridsize=50)"
   ]
  },
  {
   "cell_type": "markdown",
   "id": "938dff2c-f938-4e89-a1b4-57a2dd0c7d11",
   "metadata": {},
   "source": [
    "## Collider"
   ]
  },
  {
   "cell_type": "markdown",
   "id": "73b7af0e-77e0-4096-b10c-427a42af410b",
   "metadata": {},
   "source": [
    "Now let's consider a collider causal relationship. Controlling for a collider can induce a false association between two variables if you control / stratify on it. For the following exercise, there shouldn't be an association between your genetic risk of diabetes and your family's household income when you were a child."
   ]
  },
  {
   "cell_type": "code",
   "execution_count": null,
   "id": "9c728446-5809-4098-ae8c-45b1c6aa6559",
   "metadata": {},
   "outputs": [],
   "source": [
    "cie_example = StructuralCausalModel({\n",
    "    \"your genetic risk of diabetes\": lambda n_samples: np.random.normal(loc=1, scale=0.5, size=n_samples), \n",
    "    \"household income during your childhood\": lambda n_samples: np.random.normal(loc=3, scale=1, size=n_samples), \n",
    "    \"mother's diabetes\": logistic_model([\"your genetic risk of diabetes\", \"household income during your childhood\"], [1.5,-0.5])\n",
    "})"
   ]
  },
  {
   "cell_type": "code",
   "execution_count": null,
   "id": "83d36381-fa2a-4b05-bf96-57ded16d18e1",
   "metadata": {},
   "outputs": [],
   "source": [
    "cie_cgm = cie_example.cgm\n",
    "cie_cgm.draw()"
   ]
  },
  {
   "cell_type": "code",
   "execution_count": null,
   "id": "934f2820-9926-4398-b1db-39da1e32f08c",
   "metadata": {},
   "outputs": [],
   "source": [
    "data = cie_example.sample(n_samples=100000)\n",
    "data.head()"
   ]
  },
  {
   "cell_type": "markdown",
   "id": "3551f618-acc0-4f89-b30f-860b656090f8",
   "metadata": {},
   "source": [
    "<div class=\"alert alert-success\">\n",
    "    <h3>EXERCISE: determine the raw association between genetic risk of diabetes and household income during childhood</h3>\n",
    "</div>"
   ]
  },
  {
   "cell_type": "code",
   "execution_count": null,
   "id": "d5393226-721e-4afc-b598-725d8ed164fb",
   "metadata": {},
   "outputs": [],
   "source": [
    "clean_corr(\n",
    "    pearsonr(______, ______)\n",
    ")"
   ]
  },
  {
   "cell_type": "markdown",
   "id": "4e6fcc57-c69e-4999-9b70-d37376c9aa61",
   "metadata": {},
   "source": [
    "Let's restrict the dataset to only those with high numbers of sick days taken. We've now stratified, controlled for a collider... bad idea."
   ]
  },
  {
   "cell_type": "code",
   "execution_count": null,
   "id": "12093771-2210-4d46-807d-4df18a6d607c",
   "metadata": {},
   "outputs": [],
   "source": [
    "data2 = data[data[\"mother's diabetes\"] == 1]"
   ]
  },
  {
   "cell_type": "markdown",
   "id": "8b03588a-e6d4-4218-aac9-93fdeeb6122c",
   "metadata": {},
   "source": [
    "<div class=\"alert alert-success\">\n",
    "    <h3>EXERCISE: Is there still zero association between genetic risk of diabetes and household income during childhood?</h3>\n",
    "</div>"
   ]
  },
  {
   "cell_type": "code",
   "execution_count": null,
   "id": "05753441-fb7b-4c1a-abef-5b353d89b5e0",
   "metadata": {
    "tags": []
   },
   "outputs": [],
   "source": [
    "clean_corr(\n",
    "    pearsonr(______, ______)\n",
    ")"
   ]
  },
  {
   "cell_type": "markdown",
   "id": "d07a170d-1776-4afd-97c4-039a991e6269",
   "metadata": {},
   "source": [
    "## Mediation"
   ]
  },
  {
   "cell_type": "markdown",
   "id": "4c9f8444-77af-4005-a8b9-5ff934e3f43e",
   "metadata": {},
   "source": [
    "<div class=\"alert alert-success\">\n",
    "    <h3>EXERCISE: Create a toy model demonstrating the causal relationship of \"mediation\". Here's a tip, in three variables you could show that smoking leads to clinical signs of lung damage, which in turn leads to lung cancer</h3>\n",
    "</div>"
   ]
  },
  {
   "cell_type": "code",
   "execution_count": null,
   "id": "afb19a2e-3ac8-4899-88e3-852b04989c39",
   "metadata": {},
   "outputs": [],
   "source": [
    "cie_example = StructuralCausalModel({\n",
    "    \"______\": ______, # Tip: pearson correlations only work between two continuous variables, so in this toy example, let's make smoking and lung cancer continuous...\n",
    "    \"signs of lung damage\": logistic_model([\"smoking\"], [5]),\n",
    "    \"lung cancer\": linear_model([\"signs of lung damage\"], [5]),\n",
    "})"
   ]
  },
  {
   "cell_type": "markdown",
   "id": "f98b1a7f-242a-46b1-b628-424e625008a4",
   "metadata": {},
   "source": [
    "<div class=\"alert alert-success\">\n",
    "    <h3>EXERCISE: Can you demonstrate that there is a relationship between the two outer variables (that are mediated by a third variable)?</h3>\n",
    "</div>"
   ]
  },
  {
   "cell_type": "code",
   "execution_count": null,
   "id": "dd3e7fce-fa6b-4b20-8180-930574a075b3",
   "metadata": {},
   "outputs": [],
   "source": [
    "clean_corr(\n",
    "    pearsonr(______, ______)\n",
    ")"
   ]
  },
  {
   "cell_type": "markdown",
   "id": "57db9044-af0f-4b32-ac19-23520798305c",
   "metadata": {},
   "source": [
    "<div class=\"alert alert-success\">\n",
    "    <h3>EXERCISE: Try restricting the mediator in this dataset. Basically, filter the dataset so there is no variability in the mediator, and then you have broken the relationship between the two outer variables!</h3>\n",
    "</div>"
   ]
  },
  {
   "cell_type": "code",
   "execution_count": null,
   "id": "a8e29c82-dddf-4b39-9e5a-53f0402f0923",
   "metadata": {},
   "outputs": [],
   "source": []
  },
  {
   "cell_type": "markdown",
   "id": "30cbc012-f8a1-403c-b6d0-f7f39d941b1c",
   "metadata": {},
   "source": [
    "<div class=\"alert alert-success\">\n",
    "    <h3>EXERCISE: Can you confirm that the relationship between smoking and cancer has been broken?</h3>\n",
    "</div>"
   ]
  },
  {
   "cell_type": "code",
   "execution_count": null,
   "id": "7419d8de-5409-4be4-9a6c-4a1c6ff77a22",
   "metadata": {},
   "outputs": [],
   "source": []
  },
  {
   "cell_type": "markdown",
   "id": "a5565f79-ec3c-46ee-ae48-0a72c0cefd2c",
   "metadata": {},
   "source": [
    "## Unrelated predictors"
   ]
  },
  {
   "cell_type": "markdown",
   "id": "0ea8e651-c0ed-4264-a73f-fef5a9fd2929",
   "metadata": {},
   "source": [
    "<div class=\"alert alert-success\">\n",
    "    <h3>EXERCISE: Are you following the basic workflow we've been using above? Try to replicate it to show the causal relationship of an \"unrelated predictor\". This is a variable that causes some outcome, but is completely unrelated to a variable you're interested in. Because of this, stratifying / controlling for this unrelated predictor doesn't alter the relationship between your variable of interest and the outcome.</h3>\n",
    "</div>"
   ]
  },
  {
   "cell_type": "code",
   "execution_count": null,
   "id": "3d9dadba-33c8-4abd-b213-32885a0fad46",
   "metadata": {},
   "outputs": [],
   "source": []
  }
 ],
 "metadata": {
  "kernelspec": {
   "display_name": "Python (intro-to-causal-inference)",
   "language": "python",
   "name": "intro-to-causal-inference"
  },
  "language_info": {
   "codemirror_mode": {
    "name": "ipython",
    "version": 3
   },
   "file_extension": ".py",
   "mimetype": "text/x-python",
   "name": "python",
   "nbconvert_exporter": "python",
   "pygments_lexer": "ipython3",
   "version": "3.9.11"
  }
 },
 "nbformat": 4,
 "nbformat_minor": 5
}
